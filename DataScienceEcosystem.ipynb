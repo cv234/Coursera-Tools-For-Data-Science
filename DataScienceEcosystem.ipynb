{
 "cells": [
  {
   "cell_type": "markdown",
   "id": "75dd4727-8da6-4097-ae04-381f1d929abe",
   "metadata": {
    "tags": []
   },
   "source": [
    "# Data Science Tools and Ecosystem"
   ]
  },
  {
   "cell_type": "markdown",
   "id": "8a562d6e-f179-4dd0-afbf-bce2cb0a1ade",
   "metadata": {},
   "source": [
    "In this notebook, Data Science Tools and Ecosystem are summarized."
   ]
  },
  {
   "cell_type": "markdown",
   "id": "b7a65d31-b43a-49a6-b096-9c57438c0d3e",
   "metadata": {},
   "source": [
    "Some of the more popular languages used for Data Science are:\n",
    "1. Python\n",
    "2. R\n",
    "3. SQL"
   ]
  },
  {
   "cell_type": "markdown",
   "id": "af58cec4-da17-4bc3-b83e-e460b9fffe27",
   "metadata": {},
   "source": [
    "Some of the common libraries used for Data Science include:\n",
    "1. Pandas (Python)\n",
    "2. NumPy (Python)\n",
    "3. Matplotlib (Python)"
   ]
  },
  {
   "cell_type": "markdown",
   "id": "cb2c3625-648e-44ff-b3a1-00a347d13ca4",
   "metadata": {},
   "source": [
    "|Data Science Tools|\n",
    "|------|\n",
    "|MySQL|\n",
    "|PostgreSQL|\n",
    "|GitLab|"
   ]
  },
  {
   "cell_type": "markdown",
   "id": "6f817a36-0b28-4e74-919e-cd67abdf0612",
   "metadata": {},
   "source": [
    "### Below are a few examples of evaluating arithmetic expressions in Python"
   ]
  },
  {
   "cell_type": "code",
   "execution_count": 2,
   "id": "cfbbebe1-93d0-4fad-8385-22e84ab531a3",
   "metadata": {},
   "outputs": [
    {
     "data": {
      "text/plain": [
       "17"
      ]
     },
     "execution_count": 2,
     "metadata": {},
     "output_type": "execute_result"
    }
   ],
   "source": [
    "#This a simple arithmetic expression to mutiply then add integers\n",
    "(3*4)+5"
   ]
  },
  {
   "cell_type": "code",
   "execution_count": 3,
   "id": "b51f8a60-d769-4e5e-bd6a-38722839b455",
   "metadata": {},
   "outputs": [
    {
     "data": {
      "text/plain": [
       "3.3333333333333335"
      ]
     },
     "execution_count": 3,
     "metadata": {},
     "output_type": "execute_result"
    }
   ],
   "source": [
    "#This will convert 200 minutes to hours by diving by 60\n",
    "200/60"
   ]
  },
  {
   "cell_type": "markdown",
   "id": "df58423f-6d4a-4567-ae4c-2aadc2cbc8ca",
   "metadata": {},
   "source": [
    "**Objectives:**\n",
    "- To know some of the languages used by Data Scientists\n",
    "- To use Jupyter Notebook to create markdown and basic code cells\n",
    "- To know some open source tools used for Data Science"
   ]
  },
  {
   "cell_type": "markdown",
   "id": "cc728e45-c07f-4c5f-a4a0-9eb6bbab6185",
   "metadata": {},
   "source": [
    "## Author\n",
    "Chris V"
   ]
  },
  {
   "cell_type": "code",
   "execution_count": null,
   "id": "7ac23cd9-8e88-4cd1-8f0e-69703607ef4d",
   "metadata": {},
   "outputs": [],
   "source": []
  }
 ],
 "metadata": {
  "kernelspec": {
   "display_name": "Python",
   "language": "python",
   "name": "conda-env-python-py"
  },
  "language_info": {
   "codemirror_mode": {
    "name": "ipython",
    "version": 3
   },
   "file_extension": ".py",
   "mimetype": "text/x-python",
   "name": "python",
   "nbconvert_exporter": "python",
   "pygments_lexer": "ipython3",
   "version": "3.7.12"
  }
 },
 "nbformat": 4,
 "nbformat_minor": 5
}
